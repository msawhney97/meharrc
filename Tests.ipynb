{
 "cells": [
  {
   "cell_type": "code",
   "execution_count": 3,
   "metadata": {
    "collapsed": true
   },
   "outputs": [],
   "source": [
    ""
   ]
  },
  {
   "cell_type": "code",
   "execution_count": 9,
   "metadata": {},
   "outputs": [
    {
     "name": "stdout",
     "output_type": "stream",
     "text": [
      "0   -1.363647\n1    0.135606\n2    0.345678\n3    1.199730\n4    0.022306\ndtype: float64\n          0         1         2         3         4\n0 -0.636749 -1.618745  1.149843  0.371831 -0.755805\n1  0.543699  0.353733 -0.067571 -1.196735 -0.599108\n2 -1.519365  0.381294 -0.386801  0.314278 -0.966976\n3 -1.864399 -1.418274 -1.020788 -2.595481  0.094846\n4  1.211291 -1.067787  0.500466  2.437090  1.491460\n5  0.335285 -0.806080  0.021164 -1.203746  1.366818\n6 -0.214668  1.062183 -1.760437  1.070943 -1.504202\n7  1.419932 -0.001772 -0.516453  0.617930  1.140801\n8  1.302752 -1.030402  1.005658  1.015264 -1.480656\n9 -0.969820 -0.488562 -0.941903  0.171000  1.177374\n"
     ]
    }
   ],
   "source": [
    "import pytest\n",
    "\n",
    "import numpy as np\n",
    "\n",
    "from pandas import Series, Timestamp\n",
    "from pandas.compat import range, lmap\n",
    "import pandas.core.common as com\n",
    "import pandas.util.testing as tm\n",
    "\n",
    "import pytest\n",
    "\n",
    "from numpy.random import randn, rand, randint\n",
    "import numpy as np\n",
    "\n",
    "from pandas.core.dtypes.common import is_bool, is_list_like, is_scalar\n",
    "import pandas as pd\n",
    "from pandas.core import common as com\n",
    "from pandas.errors import PerformanceWarning\n",
    "from pandas import DataFrame, Series, Panel, date_range\n",
    "from pandas.util.testing import makeCustomDataframe as mkdf\n",
    "\n",
    "from pandas.core.computation import pytables\n",
    "from pandas.core.computation.engines import _engines, NumExprClobberingError\n",
    "from pandas.core.computation.expr import PythonExprVisitor, PandasExprVisitor\n",
    "from pandas.core.computation.expressions import (\n",
    "    _USE_NUMEXPR, _NUMEXPR_INSTALLED)\n",
    "from pandas.core.computation.ops import (\n",
    "    _binary_ops_dict,\n",
    "    _special_case_arith_ops_syms,\n",
    "    _arith_ops_syms, _bool_ops_syms,\n",
    "    _unary_math_ops, _binary_math_ops)\n",
    "\n",
    "import pandas.core.computation.expr as expr\n",
    "import pandas.util.testing as tm\n",
    "from pandas.util.testing import (assert_frame_equal, randbool,\n",
    "                                 assert_numpy_array_equal, assert_series_equal,\n",
    "                                 assert_produces_warning, slow)\n",
    "from pandas.compat import PY3, reduce\n",
    "\n",
    "\n",
    "k = Series(randn(5))\n",
    "print(k)\n",
    "print(DataFrame(randn(10,5)))"
   ]
  },
  {
   "cell_type": "code",
   "execution_count": 2,
   "metadata": {},
   "outputs": [
    {
     "name": "stdout",
     "output_type": "stream",
     "text": [
      "[ 3.        3.        3.        3.        3.999995]\nfloat64\nint64\nNone\n"
     ]
    }
   ],
   "source": [
    "from pandas.core.dtypes.cast import (\n",
    "    maybe_downcast_to_dtype\n",
    ")\n",
    "\n",
    "orig = np.arange(1000)\n",
    "arr = np.array([3, 3, 3, 3, 3.999995])\n",
    "result = maybe_downcast_to_dtype(arr, 'infer')\n",
    "print(result)\n",
    "\n",
    "\n",
    "arr = np.array([8.5, 8.6, 8.7, 8.8, 8.9999999999995])\n",
    "result = maybe_downcast_to_dtype(arr, 'infer')\n",
    "print(result.dtype)\n",
    "assert (np.array_equal(result, arr))\n",
    "\n",
    "arr = np.array([8., 8., 8., 8., 8.9999999999995])\n",
    "result = maybe_downcast_to_dtype(arr, 'infer')\n",
    "expected = np.array([8, 8, 8, 8, 9])\n",
    "print(expected.dtype)\n",
    "# print(np.dtype.name(expected))\n",
    "assert (np.array_equal(result, expected))\n",
    "\n",
    "import numpy.testing as npt\n",
    "\n",
    "ar1 = [1.0,2.333]\n",
    "ar2 = [1.0,2.333]\n",
    "print(npt.assert_array_almost_equal(ar1,ar2,decimal=1))\n",
    "\n",
    "npt.assert_almost_equal(2.3333333333333, 2.3333334,decimal = 3)"
   ]
  },
  {
   "cell_type": "code",
   "execution_count": 11,
   "metadata": {},
   "outputs": [
    {
     "name": "stdout",
     "output_type": "stream",
     "text": [
      "True\nFalse\nMultiIndex(levels=[[1, 2], ['blue', 'red']],\n           labels=[[0, 1, 1], [1, 0, 1]],\n           names=['number', 'color'])\n(2, 'blue')\n(2, 'red')\nTimedeltaIndex(['00:00:00', '00:00:01', '00:00:02', '00:00:03', '00:00:04'], dtype='timedelta64[ns]', freq=None)\n"
     ]
    }
   ],
   "source": [
    "#Actual functions\n",
    "import pandas\n",
    "\n",
    "from pandas.core.dtypes import generic as gt\n",
    "from pandas.core.dtypes.cast import (\n",
    "   maybe_convert_string_to_object,\n",
    "   infer_dtype_from_scalar\n",
    ")\n",
    "\n",
    "\n",
    "class TestThings(object):\n",
    "    def test_convert_string_to_array(self):\n",
    "        res = maybe_convert_string_to_object('Mehar')\n",
    "        tm.assert_numpy_array_equal(res, np.array(['Mehar'], dtype = object))\n",
    "        \n",
    "    def test_bool_infer(self):\n",
    "        for val in [True, False]:\n",
    "            print(val)\n",
    "            dt,vlu = infer_dtype_from_scalar(val)\n",
    "            assert dt == np.bool_\n",
    "            \n",
    "class A(object):\n",
    "    def __init__(self, x):\n",
    "        self.x = x\n",
    "a1 = A(5)\n",
    "a2 = A(5)\n",
    "assert(a1!=a2)\n",
    "assert(a1.x==a2.x)\n",
    "\n",
    "tests = TestThings()\n",
    "tests.test_convert_string_to_array()\n",
    "tests.test_bool_infer()\n",
    "\n",
    "\n",
    "tuples = [[1, 2, 2], ['red', 'blue', 'red']]\n",
    "multi_index = pandas.MultiIndex.from_arrays(tuples, names=('number', 'color'))\n",
    "\n",
    "print(multi_index)\n",
    "print(multi_index[1])\n",
    "print(multi_index[2])\n",
    "\n",
    "timedelta_index = pandas.to_timedelta(np.arange(5), unit='s')\n",
    "print(timedelta_index)\n",
    "assert(isinstance(pandas.Index([1,2,'a']), gt.ABCIndex))\n",
    "\n",
    "x = np.array([1., 1e-10, 1e-20])\n",
    "eps = np.finfo(x.dtype).eps\n",
    "np.testing.assert_array_almost_equal_nulp(x, x*eps/2 + x)"
   ]
  },
  {
   "cell_type": "code",
   "execution_count": null,
   "metadata": {},
   "outputs": [],
   "source": [
    ""
   ]
  }
 ],
 "metadata": {
  "kernelspec": {
   "display_name": "Python 2",
   "language": "python",
   "name": "python2"
  },
  "language_info": {
   "codemirror_mode": {
    "name": "ipython",
    "version": 2.0
   },
   "file_extension": ".py",
   "mimetype": "text/x-python",
   "name": "python",
   "nbconvert_exporter": "python",
   "pygments_lexer": "ipython2",
   "version": "2.7.6"
  }
 },
 "nbformat": 4,
 "nbformat_minor": 0
}